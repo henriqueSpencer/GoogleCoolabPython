{
 "cells": [
  {
   "cell_type": "code",
   "execution_count": 1,
   "metadata": {
    "colab": {},
    "colab_type": "code",
    "executionInfo": {
     "elapsed": 1581,
     "status": "ok",
     "timestamp": 1594429834559,
     "user": {
      "displayName": "Henrique spencer albuquerque",
      "photoUrl": "https://lh3.googleusercontent.com/a-/AOh14GhKAbwIpiQjeGtIfnvmFmCi-7pXqfKvXKOAraVbRbc=s64",
      "userId": "16223668510314944131"
     },
     "user_tz": 180
    },
    "id": "S2Du_yaO1BRp"
   },
   "outputs": [
    {
     "ename": "ImportError",
     "evalue": "No module named pandas_datareader",
     "output_type": "error",
     "traceback": [
      "\u001b[0;31m\u001b[0m",
      "\u001b[0;31mImportError\u001b[0mTraceback (most recent call last)",
      "\u001b[0;32m<ipython-input-1-d50e065df951>\u001b[0m in \u001b[0;36m<module>\u001b[0;34m()\u001b[0m\n\u001b[1;32m      7\u001b[0m \u001b[0;32mimport\u001b[0m \u001b[0mre\u001b[0m\u001b[0;34m\u001b[0m\u001b[0m\n\u001b[1;32m      8\u001b[0m \u001b[0;32mimport\u001b[0m \u001b[0mpandas\u001b[0m \u001b[0;32mas\u001b[0m \u001b[0mpd\u001b[0m\u001b[0;34m\u001b[0m\u001b[0m\n\u001b[0;32m----> 9\u001b[0;31m \u001b[0;32mfrom\u001b[0m \u001b[0mpandas_datareader\u001b[0m \u001b[0;32mimport\u001b[0m \u001b[0mdata\u001b[0m\u001b[0;34m,\u001b[0m \u001b[0mwb\u001b[0m\u001b[0;34m\u001b[0m\u001b[0m\n\u001b[0m\u001b[1;32m     10\u001b[0m \u001b[0;32mimport\u001b[0m \u001b[0mnumpy\u001b[0m \u001b[0;32mas\u001b[0m \u001b[0mnp\u001b[0m\u001b[0;34m\u001b[0m\u001b[0m\n\u001b[1;32m     11\u001b[0m \u001b[0;34m\u001b[0m\u001b[0m\n",
      "\u001b[0;31mImportError\u001b[0m: No module named pandas_datareader"
     ]
    }
   ],
   "source": [
    "#Campeonato Quantamental\n",
    "#Pegando dados P/L\n",
    "import requests\n",
    "import pandas as pd\n",
    "import io\n",
    "import json\n",
    "import re\n",
    "import pandas as pd\n",
    "from pandas_datareader import data, wb\n",
    "import numpy as np\n",
    "\n",
    "\n",
    "headers = {\n",
    "    'authority': 'www.oceans14.com.br',\n",
    "    'accept': 'application/json, text/javascript, */*; q=0.01',\n",
    "    'user-agent': 'Mozilla/5.0 (Linux; Android 6.0; Nexus 5 Build/MRA58N) AppleWebKit/537.36 (KHTML, like Gecko) Chrome/83.0.4103.116 Mobile Safari/537.36',\n",
    "    'x-requested-with': 'XMLHttpRequest',\n",
    "    'sec-fetch-site': 'same-origin',\n",
    "    'sec-fetch-mode': 'cors',\n",
    "    'sec-fetch-dest': 'empty',\n",
    "    # coloque aqui a url de qualquer canto que seja do site oceans14\n",
    "    'referer': 'https://www.oceans14.com.br/acoes/itau-unibanco/itub/balanco-dividendos',\n",
    "    'accept-language': 'pt-BR,pt;q=0.9,en-US;q=0.8,en;q=0.7,la;q=0.6',\n",
    "    'cookie': 'ASP.NET_SessionId=jypd15qvl1yu3ypbgqzecxjj; uid=0EAB27F50DB06E1775959795C4949E2D; origem=https://l.facebook.com/; contadorViewsAcoes=3',\n",
    "}\n",
    "\n",
    "params = (\n",
    "    ######IDENTIFICAR TICKER DA ACAO######\n",
    "    ('papel', 'ITUB3'),\n",
    "    ('periodo', '10a'),\n",
    ")\n",
    "\n",
    "response = requests.get('https://www.oceans14.com.br/rendaVariavel/respostaAjax/gHistoricoPl.aspx', headers=headers, params=params)\n",
    "dframe = pd.json_normalize(response.json())\n",
    "jason = response.text\n",
    "normal = json.loads(jason)\n",
    "datas = []\n",
    "valores = []\n",
    "for row in normal[\"rows\"]:\n",
    "    date = row['c'][0]['v']\n",
    "    formatedDate = re.search(r\"(?<=Date\\()[^\\):]+(?=:?\\))\", date).group(0)\n",
    "    simpleData = formatedDate.replace(',', '-').replace(' ', '')\n",
    "    separatedData = simpleData.split('-')\n",
    "    correctDataList = ''\n",
    "    for number in separatedData:\n",
    "        if number != '0':\n",
    "            correctDataList += (\"%02d\" % int(number)) + \"-\"\n",
    "    correctDataList = correctDataList[:-1]\n",
    "    datas.append(correctDataList)\n",
    "    valores.append(row['c'][1]['v'])\n",
    "frameDict = {\n",
    "    \"Date\": datas,\n",
    "    \"valores\": valores\n",
    "}\n",
    "dframe = pd.DataFrame(data=frameDict)\n",
    "df = pd.DataFrame()\n",
    "df['valores'] = dframe['valores'].values.tolist()\n",
    "valores = df['valores']"
   ]
  },
  {
   "cell_type": "code",
   "execution_count": null,
   "metadata": {
    "colab": {
     "base_uri": "https://localhost:8080/",
     "height": 450
    },
    "colab_type": "code",
    "executionInfo": {
     "elapsed": 1430,
     "status": "ok",
     "timestamp": 1594429848873,
     "user": {
      "displayName": "Henrique spencer albuquerque",
      "photoUrl": "https://lh3.googleusercontent.com/a-/AOh14GhKAbwIpiQjeGtIfnvmFmCi-7pXqfKvXKOAraVbRbc=s64",
      "userId": "16223668510314944131"
     },
     "user_tz": 180
    },
    "id": "eU78q_GZa4fx",
    "outputId": "5e54efd3-8775-4c60-a3e6-30bf50d2033b"
   },
   "outputs": [],
   "source": [
    "#tickers = ['ITUB3.SA'] #IDENTIFICAR TICKER DA ACAO######\n",
    "start_date = '2010-06-11'\n",
    "end_date = '2020-06-08'\n",
    "df = data.DataReader('ITUB3.SA', 'yahoo', start_date, end_date) #digitar ticker\n",
    "df['Preco_Lucro'] = valores\n",
    "tabela = df[['Close', 'Preco_Lucro']]\n",
    "Mylist = tabela.columns.values.tolist()"
   ]
  },
  {
   "cell_type": "code",
   "execution_count": null,
   "metadata": {
    "colab": {
     "base_uri": "https://localhost:8080/",
     "height": 592
    },
    "colab_type": "code",
    "executionInfo": {
     "elapsed": 8652,
     "status": "error",
     "timestamp": 1594429934143,
     "user": {
      "displayName": "Henrique spencer albuquerque",
      "photoUrl": "https://lh3.googleusercontent.com/a-/AOh14GhKAbwIpiQjeGtIfnvmFmCi-7pXqfKvXKOAraVbRbc=s64",
      "userId": "16223668510314944131"
     },
     "user_tz": 180
    },
    "id": "wOGH31GU1BR5",
    "outputId": "3606ee9f-4c39-4164-da54-22d8739281bc"
   },
   "outputs": [],
   "source": [
    "!pip install TA-Lib\n",
    "import talib\n",
    "import matplotlib.pyplot as plt\n",
    "import sys\n",
    "\n",
    "upperband, middleband, lowerband = talib.BBANDS(tabela['Preco_Lucro'], timeperiod=200, nbdevup=2, nbdevdn=2, matype=0)\n",
    "tabela['upperband'] = upperband\n",
    "tabela['middleband'] = middleband\n",
    "tabela['lowerband'] = lowerband\n",
    "tabela"
   ]
  },
  {
   "cell_type": "code",
   "execution_count": 2,
   "metadata": {
    "colab": {},
    "colab_type": "code",
    "id": "5D4WdsaR1BR_"
   },
   "outputs": [],
   "source": [
    "#Logico\n",
    "\n",
    "def buy_sell(df): \n",
    "  compras = []\n",
    "  vendas = []\n",
    "  #tickers = 'AAPL' ######IDENTIFICAR TICKER DA ACAO######\n",
    "  flag = 3\n",
    "  #flag = 1 comprado\n",
    "  #flag = 0 vendeu\n",
    "\n",
    "  for i in range(len(df)):\n",
    "    if df[valores][i] < df[valores + '_binferior'][i]:   \n",
    "      if flag != 1:\n",
    "        compras.append(df[valores][i])\n",
    "        vendas.append(np.nan)\n",
    "        flag = 1\n",
    "      else:\n",
    "        compras.append(np.nan)\n",
    "        vendas.append(np.nan)\n",
    "\n",
    "    elif (df[valores][i] > df[valores + '_bsuperior'][i]):\n",
    "      if ((flag != 0) & (flag != 3)):\n",
    "        compras.append(np.nan)\n",
    "        vendas.append(df[valores][i])\n",
    "        flag = 0\n",
    "      else:\n",
    "        compras.append(np.nan)\n",
    "        vendas.append(np.nan)\n",
    "\n",
    "    else:\n",
    "      compras.append(np.nan)\n",
    "      vendas.append(np.nan)\n",
    "        \n",
    "  return (compras, vendas)"
   ]
  },
  {
   "cell_type": "code",
   "execution_count": 3,
   "metadata": {
    "colab": {
     "base_uri": "https://localhost:8080/",
     "height": 225
    },
    "colab_type": "code",
    "id": "-a8bTbjv1crI",
    "outputId": "ee0fa7db-da68-4adc-e5e9-f0480faff5e4"
   },
   "outputs": [
    {
     "ename": "NameError",
     "evalue": "name 'df' is not defined",
     "output_type": "error",
     "traceback": [
      "\u001b[0;31m\u001b[0m",
      "\u001b[0;31mNameError\u001b[0mTraceback (most recent call last)",
      "\u001b[0;32m<ipython-input-3-52f1b2c04d7b>\u001b[0m in \u001b[0;36m<module>\u001b[0;34m()\u001b[0m\n\u001b[0;32m----> 1\u001b[0;31m \u001b[0mbuy_sell\u001b[0m \u001b[0;34m=\u001b[0m \u001b[0mbuy_sell\u001b[0m\u001b[0;34m(\u001b[0m\u001b[0mdf\u001b[0m\u001b[0;34m)\u001b[0m\u001b[0;34m\u001b[0m\u001b[0m\n\u001b[0m\u001b[1;32m      2\u001b[0m \u001b[0mdf\u001b[0m\u001b[0;34m[\u001b[0m\u001b[0;34m'compra'\u001b[0m\u001b[0;34m]\u001b[0m \u001b[0;34m=\u001b[0m \u001b[0mbuy_sell\u001b[0m\u001b[0;34m[\u001b[0m\u001b[0;36m0\u001b[0m\u001b[0;34m]\u001b[0m\u001b[0;34m\u001b[0m\u001b[0m\n\u001b[1;32m      3\u001b[0m \u001b[0mdf\u001b[0m\u001b[0;34m[\u001b[0m\u001b[0;34m'venda'\u001b[0m\u001b[0;34m]\u001b[0m \u001b[0;34m=\u001b[0m \u001b[0mbuy_sell\u001b[0m\u001b[0;34m[\u001b[0m\u001b[0;36m1\u001b[0m\u001b[0;34m]\u001b[0m\u001b[0;34m\u001b[0m\u001b[0m\n",
      "\u001b[0;31mNameError\u001b[0m: name 'df' is not defined"
     ]
    }
   ],
   "source": [
    "buy_sell = buy_sell(df)\n",
    "df['compra'] = buy_sell[0]\n",
    "df['venda'] = buy_sell[1]"
   ]
  },
  {
   "cell_type": "code",
   "execution_count": 4,
   "metadata": {
    "colab": {
     "base_uri": "https://localhost:8080/",
     "height": 357
    },
    "colab_type": "code",
    "id": "wqly-t5G1BSF",
    "outputId": "cf0231fe-24f3-43d8-cdde-e204187d1b4a"
   },
   "outputs": [
    {
     "ename": "NameError",
     "evalue": "name 'plt' is not defined",
     "output_type": "error",
     "traceback": [
      "\u001b[0;31m\u001b[0m",
      "\u001b[0;31mNameError\u001b[0mTraceback (most recent call last)",
      "\u001b[0;32m<ipython-input-4-1ba1a896667b>\u001b[0m in \u001b[0;36m<module>\u001b[0;34m()\u001b[0m\n\u001b[1;32m      2\u001b[0m \u001b[0;34m\u001b[0m\u001b[0m\n\u001b[1;32m      3\u001b[0m \u001b[0;34m\u001b[0m\u001b[0m\n\u001b[0;32m----> 4\u001b[0;31m \u001b[0mplt\u001b[0m\u001b[0;34m.\u001b[0m\u001b[0mfigure\u001b[0m\u001b[0;34m(\u001b[0m\u001b[0mfigsize\u001b[0m\u001b[0;34m=\u001b[0m\u001b[0;34m(\u001b[0m\u001b[0;36m15.7\u001b[0m\u001b[0;34m,\u001b[0m\u001b[0;36m4.7\u001b[0m\u001b[0;34m)\u001b[0m\u001b[0;34m)\u001b[0m\u001b[0;34m\u001b[0m\u001b[0m\n\u001b[0m\u001b[1;32m      5\u001b[0m \u001b[0mplt\u001b[0m\u001b[0;34m.\u001b[0m\u001b[0mplot\u001b[0m\u001b[0;34m(\u001b[0m\u001b[0mdf\u001b[0m\u001b[0;34m[\u001b[0m\u001b[0mvalores\u001b[0m\u001b[0;34m]\u001b[0m\u001b[0;34m,\u001b[0m \u001b[0mlabel\u001b[0m \u001b[0;34m=\u001b[0m \u001b[0;34m'Preço'\u001b[0m\u001b[0;34m,\u001b[0m \u001b[0malpha\u001b[0m \u001b[0;34m=\u001b[0m \u001b[0;36m0.50\u001b[0m\u001b[0;34m)\u001b[0m\u001b[0;34m\u001b[0m\u001b[0m\n\u001b[1;32m      6\u001b[0m \u001b[0mplt\u001b[0m\u001b[0;34m.\u001b[0m\u001b[0mplot\u001b[0m\u001b[0;34m(\u001b[0m\u001b[0mdf\u001b[0m\u001b[0;34m[\u001b[0m\u001b[0mvalores\u001b[0m \u001b[0;34m+\u001b[0m \u001b[0;34m'_bsuperior'\u001b[0m\u001b[0;34m]\u001b[0m\u001b[0;34m,\u001b[0m \u001b[0mlabel\u001b[0m \u001b[0;34m=\u001b[0m \u001b[0;34m'Banda Supeferior'\u001b[0m\u001b[0;34m,\u001b[0m\u001b[0malpha\u001b[0m \u001b[0;34m=\u001b[0m \u001b[0;36m0.5\u001b[0m\u001b[0;34m)\u001b[0m\u001b[0;34m\u001b[0m\u001b[0m\n",
      "\u001b[0;31mNameError\u001b[0m: name 'plt' is not defined"
     ]
    }
   ],
   "source": [
    "#tickers = 'AAPL' ######IDENTIFICAR TICKER DA ACAO######\n",
    "\n",
    "\n",
    "plt.figure(figsize=(15.7,4.7))\n",
    "plt.plot(df[valores], label = 'Preço', alpha = 0.50)\n",
    "plt.plot(df[valores + '_bsuperior'], label = 'Banda Supeferior',alpha = 0.5) \n",
    "plt.plot(df[valores + '_binferior'], label = 'Banda Inferior',alpha = 0.5)\n",
    "plt.scatter(df.index, df['compra'], label = 'Buy', marker=\"1\",color = 'green')\n",
    "plt.scatter(df.index, df['venda'], label = 'Sell',marker=\"v\",color = 'red')\n",
    "plt.xlabel('2010-10-18 - 2019-12-31', fontsize =15)\n",
    "plt.title(\"{}\".format(tickers) + 'Preco Lucro', fontsize=15)\n",
    "plt.legend(loc='upper left')\n"
   ]
  },
  {
   "cell_type": "code",
   "execution_count": null,
   "metadata": {
    "colab": {},
    "colab_type": "code",
    "id": "FndVys4RsrY9"
   },
   "outputs": [],
   "source": [
    "\n"
   ]
  },
  {
   "cell_type": "code",
   "execution_count": null,
   "metadata": {
    "colab": {},
    "colab_type": "code",
    "id": "Zh7MiI_Ha4ii"
   },
   "outputs": [],
   "source": []
  },
  {
   "cell_type": "code",
   "execution_count": null,
   "metadata": {
    "colab": {},
    "colab_type": "code",
    "id": "7Espzcxoa4i1"
   },
   "outputs": [],
   "source": []
  }
 ],
 "metadata": {
  "colab": {
   "collapsed_sections": [],
   "name": "Q3.ipynb",
   "provenance": []
  },
  "kernelspec": {
   "display_name": "Python 3",
   "language": "python",
   "name": "python3"
  },
  "language_info": {
   "codemirror_mode": {
    "name": "ipython",
    "version": 3
   },
   "file_extension": ".py",
   "mimetype": "text/x-python",
   "name": "python",
   "nbconvert_exporter": "python",
   "pygments_lexer": "ipython3",
   "version": "3.7.6"
  }
 },
 "nbformat": 4,
 "nbformat_minor": 4
}
