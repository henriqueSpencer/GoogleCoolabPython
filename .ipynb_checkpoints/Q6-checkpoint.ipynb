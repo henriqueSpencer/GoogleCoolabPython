{
 "cells": [
  {
   "cell_type": "code",
   "execution_count": 152,
   "metadata": {
    "colab": {
     "base_uri": "https://localhost:8080/",
     "height": 455
    },
    "colab_type": "code",
    "id": "S2Du_yaO1BRp",
    "outputId": "33d1ced2-5dd1-4d32-bda7-a95fea1b8354"
   },
   "outputs": [],
   "source": [
    "#Campeonato Quantamental\n",
    "#Pegando dados P/L\n",
    "import requests\n",
    "import pandas as pd\n",
    "import io\n",
    "import json\n",
    "import re\n",
    "import pandas as pd\n",
    "from pandas_datareader import data, wb\n",
    "import numpy as np\n",
    "from datetime import *\n",
    "\n",
    "headers = {\n",
    "    'authority': 'www.oceans14.com.br',\n",
    "    'accept': 'application/json, text/javascript, */*; q=0.01',\n",
    "    'user-agent': 'Mozilla/5.0 (Linux; Android 6.0; Nexus 5 Build/MRA58N) AppleWebKit/537.36 (KHTML, like Gecko) Chrome/83.0.4103.116 Mobile Safari/537.36',\n",
    "    'x-requested-with': 'XMLHttpRequest',\n",
    "    'sec-fetch-site': 'same-origin',\n",
    "    'sec-fetch-mode': 'cors',\n",
    "    'sec-fetch-dest': 'empty',\n",
    "    # coloque aqui a url de qualquer canto que seja do site oceans14\n",
    "    'referer': 'https://www.oceans14.com.br/acoes/itau-unibanco/itub/balanco-dividendos',\n",
    "    'accept-language': 'pt-BR,pt;q=0.9,en-US;q=0.8,en;q=0.7,la;q=0.6',\n",
    "    'cookie': 'ASP.NET_SessionId=jypd15qvl1yu3ypbgqzecxjj; uid=0EAB27F50DB06E1775959795C4949E2D; origem=https://l.facebook.com/; contadorViewsAcoes=3',\n",
    "}\n",
    "\n",
    "params = (\n",
    "    ######IDENTIFICAR TICKER DA ACAO######\n",
    "    ('papel', 'ITUB3'),\n",
    "    ('periodo', '10a'),\n",
    ")\n",
    "\n",
    "response = requests.get('https://www.oceans14.com.br/rendaVariavel/respostaAjax/gHistoricoPl.aspx', headers=headers, params=params)\n",
    "dframe = pd.json_normalize(response.json())\n",
    "jason = response.text\n",
    "normal = json.loads(jason)\n",
    "datas = []\n",
    "valores = []\n",
    "for row in normal[\"rows\"]:\n",
    "    date = row['c'][0]['v']\n",
    "    formatedDate = re.search(r\"(?<=Date\\()[^\\):]+(?=:?\\))\", date).group(0)\n",
    "    simpleData = formatedDate.replace(',', '-').replace(' ', '')\n",
    "    separatedData = simpleData.split('-')\n",
    "    correctDataList = ''\n",
    "    for number in separatedData:\n",
    "        if number != '0':\n",
    "            correctDataList += (\"%02d\" % int(number)) + \"-\"\n",
    "    correctDataList = correctDataList[:-1]\n",
    "    datas.append(correctDataList)\n",
    "    valores.append(row['c'][1]['v'])\n",
    "frameDict = {\n",
    "    \"Date\": datas,\n",
    "    \"valores\": valores\n",
    "}\n",
    "dframe = pd.DataFrame(data=frameDict)\n",
    "dframe['valores'] = dframe['valores'].values.tolist()\n",
    "dframe['valores'] = valores"
   ]
  },
  {
   "cell_type": "code",
   "execution_count": 153,
   "metadata": {},
   "outputs": [],
   "source": [
    "#tickers = ['ITUB3.SA'] #IDENTIFICAR TICKER DA ACAO######\n",
    "acao = 'ITUB3'\n",
    "start_date = '2010-06-14'\n",
    "end_date = '2020-06-08'\n",
    "df = data.DataReader('ITUB3.SA', 'yahoo', start_date, end_date) #digitar ticker\n",
    "df['Preco_Lucro'] = valores\n",
    "tabela = df[['Close', 'Preco_Lucro']]"
   ]
  },
  {
   "cell_type": "code",
   "execution_count": 164,
   "metadata": {
    "colab": {
     "base_uri": "https://localhost:8080/",
     "height": 330
    },
    "colab_type": "code",
    "id": "wOGH31GU1BR5",
    "outputId": "17e0a067-305f-47f4-ad79-df23354ceff3"
   },
   "outputs": [
    {
     "name": "stderr",
     "output_type": "stream",
     "text": [
      "/opt/anaconda3/lib/python3.7/site-packages/ipykernel_launcher.py:6: SettingWithCopyWarning: \n",
      "A value is trying to be set on a copy of a slice from a DataFrame.\n",
      "Try using .loc[row_indexer,col_indexer] = value instead\n",
      "\n",
      "See the caveats in the documentation: https://pandas.pydata.org/pandas-docs/stable/user_guide/indexing.html#returning-a-view-versus-a-copy\n",
      "  \n",
      "/opt/anaconda3/lib/python3.7/site-packages/ipykernel_launcher.py:7: SettingWithCopyWarning: \n",
      "A value is trying to be set on a copy of a slice from a DataFrame.\n",
      "Try using .loc[row_indexer,col_indexer] = value instead\n",
      "\n",
      "See the caveats in the documentation: https://pandas.pydata.org/pandas-docs/stable/user_guide/indexing.html#returning-a-view-versus-a-copy\n",
      "  import sys\n",
      "/opt/anaconda3/lib/python3.7/site-packages/ipykernel_launcher.py:8: SettingWithCopyWarning: \n",
      "A value is trying to be set on a copy of a slice from a DataFrame.\n",
      "Try using .loc[row_indexer,col_indexer] = value instead\n",
      "\n",
      "See the caveats in the documentation: https://pandas.pydata.org/pandas-docs/stable/user_guide/indexing.html#returning-a-view-versus-a-copy\n",
      "  \n"
     ]
    },
    {
     "data": {
      "text/html": [
       "<div>\n",
       "<style scoped>\n",
       "    .dataframe tbody tr th:only-of-type {\n",
       "        vertical-align: middle;\n",
       "    }\n",
       "\n",
       "    .dataframe tbody tr th {\n",
       "        vertical-align: top;\n",
       "    }\n",
       "\n",
       "    .dataframe thead th {\n",
       "        text-align: right;\n",
       "    }\n",
       "</style>\n",
       "<table border=\"1\" class=\"dataframe\">\n",
       "  <thead>\n",
       "    <tr style=\"text-align: right;\">\n",
       "      <th></th>\n",
       "      <th>Close</th>\n",
       "      <th>Preco_Lucro</th>\n",
       "      <th>upperband</th>\n",
       "      <th>middleband</th>\n",
       "      <th>lowerband</th>\n",
       "    </tr>\n",
       "    <tr>\n",
       "      <th>Date</th>\n",
       "      <th></th>\n",
       "      <th></th>\n",
       "      <th></th>\n",
       "      <th></th>\n",
       "      <th></th>\n",
       "    </tr>\n",
       "  </thead>\n",
       "  <tbody>\n",
       "    <tr>\n",
       "      <th>2010-06-14</th>\n",
       "      <td>12.412600</td>\n",
       "      <td>11.00</td>\n",
       "      <td>NaN</td>\n",
       "      <td>NaN</td>\n",
       "      <td>NaN</td>\n",
       "    </tr>\n",
       "    <tr>\n",
       "      <th>2010-06-15</th>\n",
       "      <td>12.635700</td>\n",
       "      <td>10.72</td>\n",
       "      <td>NaN</td>\n",
       "      <td>NaN</td>\n",
       "      <td>NaN</td>\n",
       "    </tr>\n",
       "    <tr>\n",
       "      <th>2010-06-16</th>\n",
       "      <td>12.717700</td>\n",
       "      <td>10.87</td>\n",
       "      <td>NaN</td>\n",
       "      <td>NaN</td>\n",
       "      <td>NaN</td>\n",
       "    </tr>\n",
       "    <tr>\n",
       "      <th>2010-06-17</th>\n",
       "      <td>12.599300</td>\n",
       "      <td>10.99</td>\n",
       "      <td>NaN</td>\n",
       "      <td>NaN</td>\n",
       "      <td>NaN</td>\n",
       "    </tr>\n",
       "    <tr>\n",
       "      <th>2010-06-18</th>\n",
       "      <td>12.613000</td>\n",
       "      <td>11.01</td>\n",
       "      <td>NaN</td>\n",
       "      <td>NaN</td>\n",
       "      <td>NaN</td>\n",
       "    </tr>\n",
       "    <tr>\n",
       "      <th>...</th>\n",
       "      <td>...</td>\n",
       "      <td>...</td>\n",
       "      <td>...</td>\n",
       "      <td>...</td>\n",
       "      <td>...</td>\n",
       "    </tr>\n",
       "    <tr>\n",
       "      <th>2020-06-02</th>\n",
       "      <td>23.740000</td>\n",
       "      <td>10.68</td>\n",
       "      <td>15.268979</td>\n",
       "      <td>11.10695</td>\n",
       "      <td>6.944921</td>\n",
       "    </tr>\n",
       "    <tr>\n",
       "      <th>2020-06-03</th>\n",
       "      <td>24.500000</td>\n",
       "      <td>10.43</td>\n",
       "      <td>15.263161</td>\n",
       "      <td>11.10060</td>\n",
       "      <td>6.938039</td>\n",
       "    </tr>\n",
       "    <tr>\n",
       "      <th>2020-06-04</th>\n",
       "      <td>25.200001</td>\n",
       "      <td>10.59</td>\n",
       "      <td>15.259678</td>\n",
       "      <td>11.09635</td>\n",
       "      <td>6.933022</td>\n",
       "    </tr>\n",
       "    <tr>\n",
       "      <th>2020-06-05</th>\n",
       "      <td>25.730000</td>\n",
       "      <td>10.59</td>\n",
       "      <td>15.255026</td>\n",
       "      <td>11.09150</td>\n",
       "      <td>6.927974</td>\n",
       "    </tr>\n",
       "    <tr>\n",
       "      <th>2020-06-08</th>\n",
       "      <td>26.309999</td>\n",
       "      <td>10.64</td>\n",
       "      <td>15.249906</td>\n",
       "      <td>11.08670</td>\n",
       "      <td>6.923494</td>\n",
       "    </tr>\n",
       "  </tbody>\n",
       "</table>\n",
       "<p>2470 rows × 5 columns</p>\n",
       "</div>"
      ],
      "text/plain": [
       "                Close  Preco_Lucro  upperband  middleband  lowerband\n",
       "Date                                                                \n",
       "2010-06-14  12.412600        11.00        NaN         NaN        NaN\n",
       "2010-06-15  12.635700        10.72        NaN         NaN        NaN\n",
       "2010-06-16  12.717700        10.87        NaN         NaN        NaN\n",
       "2010-06-17  12.599300        10.99        NaN         NaN        NaN\n",
       "2010-06-18  12.613000        11.01        NaN         NaN        NaN\n",
       "...               ...          ...        ...         ...        ...\n",
       "2020-06-02  23.740000        10.68  15.268979    11.10695   6.944921\n",
       "2020-06-03  24.500000        10.43  15.263161    11.10060   6.938039\n",
       "2020-06-04  25.200001        10.59  15.259678    11.09635   6.933022\n",
       "2020-06-05  25.730000        10.59  15.255026    11.09150   6.927974\n",
       "2020-06-08  26.309999        10.64  15.249906    11.08670   6.923494\n",
       "\n",
       "[2470 rows x 5 columns]"
      ]
     },
     "execution_count": 164,
     "metadata": {},
     "output_type": "execute_result"
    }
   ],
   "source": [
    "import talib\n",
    "import matplotlib.pyplot as plt\n",
    "import sys\n",
    "\n",
    "upperband, middleband, lowerband = talib.BBANDS(tabela['Preco_Lucro'], timeperiod=200, nbdevup=3, nbdevdn=3, matype=0)\n",
    "tabela['upperband'] = upperband\n",
    "tabela['middleband'] = middleband\n",
    "tabela['lowerband'] = lowerband\n",
    "tabela"
   ]
  },
  {
   "cell_type": "code",
   "execution_count": 167,
   "metadata": {
    "colab": {},
    "colab_type": "code",
    "id": "5D4WdsaR1BR_"
   },
   "outputs": [],
   "source": [
    "#Logico\n",
    "\n",
    "def buy_sell(df): \n",
    "  compras = []\n",
    "  vendas = []\n",
    "  #tickers = 'AAPL' ######IDENTIFICAR TICKER DA ACAO######\n",
    "  flag = 3\n",
    "  #flag = 1 comprado\n",
    "  #flag = 0 vendeu\n",
    "\n",
    "  for i in range(len(df)):\n",
    "    if tabela['Preco_Lucro'][i] < tabela['lowerband'][i]:   \n",
    "      if flag != 1:\n",
    "        compras.append(tabela['Close'][i])\n",
    "        vendas.append(np.nan)\n",
    "        flag = 1\n",
    "      else:\n",
    "        compras.append(np.nan)\n",
    "        vendas.append(np.nan)\n",
    "\n",
    "    elif (tabela['Preco_Lucro'][i] > tabela['upperband'][i]):\n",
    "      if ((flag != 0) & (flag != 3)):\n",
    "        compras.append(np.nan)\n",
    "        vendas.append(tabela['Close'][i])\n",
    "        flag = 0\n",
    "      else:\n",
    "        compras.append(np.nan)\n",
    "        vendas.append(np.nan)\n",
    "\n",
    "    else:\n",
    "      compras.append(np.nan)\n",
    "      vendas.append(np.nan)\n",
    "        \n",
    "  return (compras, vendas)"
   ]
  },
  {
   "cell_type": "code",
   "execution_count": 165,
   "metadata": {
    "colab": {
     "base_uri": "https://localhost:8080/",
     "height": 225
    },
    "colab_type": "code",
    "id": "-a8bTbjv1crI",
    "outputId": "ee0fa7db-da68-4adc-e5e9-f0480faff5e4"
   },
   "outputs": [
    {
     "ename": "TypeError",
     "evalue": "'tuple' object is not callable",
     "output_type": "error",
     "traceback": [
      "\u001b[0;31m---------------------------------------------------------------------------\u001b[0m",
      "\u001b[0;31mTypeError\u001b[0m                                 Traceback (most recent call last)",
      "\u001b[0;32m<ipython-input-165-585d6f8a2df8>\u001b[0m in \u001b[0;36m<module>\u001b[0;34m\u001b[0m\n\u001b[0;32m----> 1\u001b[0;31m \u001b[0mbuy_sell\u001b[0m \u001b[0;34m=\u001b[0m \u001b[0mbuy_sell\u001b[0m\u001b[0;34m(\u001b[0m\u001b[0mdf\u001b[0m\u001b[0;34m)\u001b[0m\u001b[0;34m\u001b[0m\u001b[0;34m\u001b[0m\u001b[0m\n\u001b[0m\u001b[1;32m      2\u001b[0m \u001b[0mdf\u001b[0m\u001b[0;34m[\u001b[0m\u001b[0;34m'compra'\u001b[0m\u001b[0;34m]\u001b[0m \u001b[0;34m=\u001b[0m \u001b[0mbuy_sell\u001b[0m\u001b[0;34m[\u001b[0m\u001b[0;36m0\u001b[0m\u001b[0;34m]\u001b[0m\u001b[0;34m\u001b[0m\u001b[0;34m\u001b[0m\u001b[0m\n\u001b[1;32m      3\u001b[0m \u001b[0mdf\u001b[0m\u001b[0;34m[\u001b[0m\u001b[0;34m'venda'\u001b[0m\u001b[0;34m]\u001b[0m \u001b[0;34m=\u001b[0m \u001b[0mbuy_sell\u001b[0m\u001b[0;34m[\u001b[0m\u001b[0;36m1\u001b[0m\u001b[0;34m]\u001b[0m\u001b[0;34m\u001b[0m\u001b[0;34m\u001b[0m\u001b[0m\n\u001b[1;32m      4\u001b[0m \u001b[0mcompras\u001b[0m\u001b[0;34m\u001b[0m\u001b[0;34m\u001b[0m\u001b[0m\n",
      "\u001b[0;31mTypeError\u001b[0m: 'tuple' object is not callable"
     ]
    }
   ],
   "source": [
    "buy_sell = buy_sell(df)\n",
    "df['compra'] = buy_sell[0]\n",
    "df['venda'] = buy_sell[1]"
   ]
  },
  {
   "cell_type": "code",
   "execution_count": 158,
   "metadata": {
    "colab": {
     "base_uri": "https://localhost:8080/",
     "height": 357
    },
    "colab_type": "code",
    "id": "wqly-t5G1BSF",
    "outputId": "cf0231fe-24f3-43d8-cdde-e204187d1b4a"
   },
   "outputs": [
    {
     "data": {
      "text/plain": [
       "<matplotlib.legend.Legend at 0x117bfee10>"
      ]
     },
     "execution_count": 158,
     "metadata": {},
     "output_type": "execute_result"
    },
    {
     "data": {
      "image/png": "[encoded data removed]",
      "text/plain": [
       "<Figure size 1130.4x338.4 with 1 Axes>"
      ]
     },
     "metadata": {},
     "output_type": "display_data"
    }
   ],
   "source": [
    "#tickers = 'AAPL' ######IDENTIFICAR TICKER DA ACAO######\n",
    "plt.style.use('fivethirtyeight')\n",
    "plt.figure(figsize=(15.7,4.7))\n",
    "plt.plot(tabela['Preco_Lucro'], label = 'Preço/Lucro', alpha = 1, linewidth=1.5)\n",
    "plt.plot(tabela['middleband'], label = 'Media',alpha = 0.5, linewidth=0.5, color='green')\n",
    "plt.plot(tabela['upperband'], label = 'Banda Superior',alpha = 0.5, linewidth=0.5, color='red')\n",
    "plt.plot(tabela['lowerband'], label = 'Banda Inferior',alpha = 0.5, linewidth=0.5, color='red')\n",
    "plt.scatter(df.index, df['compra'], label = 'Buy', marker='^',color = 'green', s=100)\n",
    "plt.scatter(df.index, df['venda'], label = 'Sell',marker=\"v\",color = 'red', s=100)\n",
    "plt.xlabel('14/06/2010 à 09/06/2020', fontsize =15)\n",
    "plt.title(acao, fontsize=20)\n",
    "plt.legend(loc='best')"
   ]
  },
  {
   "cell_type": "code",
   "execution_count": 162,
   "metadata": {
    "colab": {},
    "colab_type": "code",
    "id": "FndVys4RsrY9"
   },
   "outputs": [
    {
     "ename": "AttributeError",
     "evalue": "'function' object has no attribute 'to_csv'",
     "output_type": "error",
     "traceback": [
      "\u001b[0;31m---------------------------------------------------------------------------\u001b[0m",
      "\u001b[0;31mAttributeError\u001b[0m                            Traceback (most recent call last)",
      "\u001b[0;32m<ipython-input-162-a7e7c71cd253>\u001b[0m in \u001b[0;36m<module>\u001b[0;34m\u001b[0m\n\u001b[1;32m     18\u001b[0m \u001b[0;34m\u001b[0m\u001b[0m\n\u001b[1;32m     19\u001b[0m     \u001b[0;32mreturn\u001b[0m \u001b[0;34m(\u001b[0m\u001b[0mbuy\u001b[0m\u001b[0;34m,\u001b[0m \u001b[0msell\u001b[0m\u001b[0;34m)\u001b[0m\u001b[0;34m\u001b[0m\u001b[0;34m\u001b[0m\u001b[0m\n\u001b[0;32m---> 20\u001b[0;31m \u001b[0mretorno\u001b[0m\u001b[0;34m.\u001b[0m\u001b[0mto_csv\u001b[0m\u001b[0;34m(\u001b[0m\u001b[0;34m'retorno.csv'\u001b[0m\u001b[0;34m)\u001b[0m\u001b[0;34m\u001b[0m\u001b[0;34m\u001b[0m\u001b[0m\n\u001b[0m",
      "\u001b[0;31mAttributeError\u001b[0m: 'function' object has no attribute 'to_csv'"
     ]
    }
   ],
   "source": [
    "#Calculo retorno da estrategia\n",
    "#tabela['retorno']=tabela['Close'].pct_change()\n",
    "#retorno = tabela['retorno'].sum()\n",
    "\n",
    "def retorno(retorno):\n",
    "    buy = []\n",
    "    sell = []\n",
    "\n",
    "    for i in range(df['compra'][i]):\n",
    "        if tabela['compra'][i] >= 1: \n",
    "            buy.append(tabela['Close'][i])\n",
    "        else:\n",
    "            None\n",
    "        if tabela['venda'][i] >= 1:   \n",
    "            sell.append(tabela['Close'][i])\n",
    "        else:\n",
    "            None\n",
    "            \n",
    "    return (buy, sell)\n"
   ]
  },
  {
   "cell_type": "code",
   "execution_count": null,
   "metadata": {},
   "outputs": [],
   "source": []
  },
  {
   "cell_type": "code",
   "execution_count": null,
   "metadata": {},
   "outputs": [],
   "source": []
  }
 ],
 "metadata": {
  "colab": {
   "collapsed_sections": [],
   "name": "quantamental 3.ipynb",
   "provenance": []
  },
  "kernelspec": {
   "display_name": "Python 3",
   "language": "python",
   "name": "python3"
  },
  "language_info": {
   "codemirror_mode": {
    "name": "ipython",
    "version": 3
   },
   "file_extension": ".py",
   "mimetype": "text/x-python",
   "name": "python",
   "nbconvert_exporter": "python",
   "pygments_lexer": "ipython3",
   "version": "3.7.6"
  }
 },
 "nbformat": 4,
 "nbformat_minor": 4
}
